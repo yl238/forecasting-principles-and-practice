{
 "cells": [
  {
   "cell_type": "code",
   "execution_count": 9,
   "metadata": {},
   "outputs": [],
   "source": [
    "%load_ext autoreload\n",
    "%autoreload 2"
   ]
  },
  {
   "cell_type": "code",
   "execution_count": 12,
   "metadata": {},
   "outputs": [],
   "source": [
    "import sys\n",
    "sys.path.append('..')\n",
    "import warnings\n",
    "warnings.filterwarnings('ignore')"
   ]
  },
  {
   "cell_type": "markdown",
   "metadata": {},
   "source": [
    "## 5.2 Some simple forecast methods\n",
    "Some simple baseline models:\n",
    "- **Mean**: the forecasts of all future values are equal to the average (or \"mean\") of the historical data. If historical data is denoted by $y_1,\\ldots y_T$, then the forecast is given by $\\hat{y}_{T+h|T} = \\bar{y} = (y_1+\\cdots+y_T)/T$.\n",
    "- **Naive**: set all forecasts to be the value of the last observation, i.e. $\\hat{y}_{T+h|T} = y_T$. This method works remarkably well for many economic and financial time series. Because a naive forecast is optimal when data follow a random walk, these are also called *random walk forecasts*.\n",
    "- **Seasonal naive method**: A similar method used for highly seasonal data. Here we set each forecast to be equal to the last observed value from the same season (e.g. the same month of the previous year). Formally, the forecast for time $T+h$ is written as $\\hat{y}_{T+h|T} = y_{T+h-m(k+1)}$, where $m=$ the seasonal period, and $k$ is the integer part of $(h-1)/m$ (i.e. the number of complete years in the forecast period prior to $T+h$).\n",
    "- **Drift method**: Allow the forecasts to increase or decrease over time, where the amount of change over time (called the **drift**) is set to be the average change in the historical data. Thus the forecast for time $T+h$ is given by \n",
    "$$\n",
    "\\hat{y}_{T+h|T} = y_T + \\frac{h}{T-1}\\sum_{t=2}^T(y_t-y_{t-1}) = y_T + h\\left(\\frac{y_T-y_1}{T-1}\\right).\n",
    "$$ \n",
    "This is equivalent to drawing a line between the first and last observations, and extrapolating it into the future."
   ]
  },
  {
   "cell_type": "code",
   "execution_count": 1,
   "metadata": {},
   "outputs": [],
   "source": [
    "import statsmodels.api as sm"
   ]
  },
  {
   "cell_type": "code",
   "execution_count": 3,
   "metadata": {},
   "outputs": [],
   "source": [
    "import pandas as pd"
   ]
  },
  {
   "cell_type": "code",
   "execution_count": 13,
   "metadata": {},
   "outputs": [],
   "source": [
    "df = pd.read_csv('../data/tsibbledata/aus_production.csv')\n",
    "aus_production = (df\n",
    "    .assign(Date=pd.to_datetime(df['Quarter'].str.replace(' ', '')))\n",
    "    .set_index('Date')\n",
    ")"
   ]
  },
  {
   "cell_type": "code",
   "execution_count": 6,
   "metadata": {},
   "outputs": [],
   "source": [
    "bricks = aus_production['1970-01-01': '2004-01-01']"
   ]
  }
 ],
 "metadata": {
  "kernelspec": {
   "display_name": "venv",
   "language": "python",
   "name": "python3"
  },
  "language_info": {
   "codemirror_mode": {
    "name": "ipython",
    "version": 3
   },
   "file_extension": ".py",
   "mimetype": "text/x-python",
   "name": "python",
   "nbconvert_exporter": "python",
   "pygments_lexer": "ipython3",
   "version": "3.11.7"
  }
 },
 "nbformat": 4,
 "nbformat_minor": 2
}
