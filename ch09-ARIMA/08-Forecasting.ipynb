{
 "cells": [
  {
   "cell_type": "markdown",
   "metadata": {},
   "source": [
    "## 9.8 Forecasting\n",
    "### Point forecasts\n",
    "How are forecasts from ARIMA models obtained? They can be calculated using the following three steps:\n",
    "1. Expand the ARIMA equation so that $y_t$ is on the left hand side and all the other terms are on the RHS.\n",
    "2. Rewrite the equation by replacing $t$ with $T+h$.\n",
    "3. On the RHS of the equation, replace future observations with their forecasts, future errors with zero, and past errors with the corresponding residuals.\n",
    "\n",
    "Beginning with $h=1$, these steps are then repeated for $h=2, 3, \\ldots$ until all forecasts have been calculated. \n",
    "\n",
    "#### Example: ARIMA(3, 1, 1) model\n",
    "This model can be written as follows:\n",
    "$$\n",
    "(1-\\hat{\\phi}_1B - \\hat{\\phi}_2B^2 - \\hat{\\phi}_3B^3)(1-B)y_t = (1+\\hat{\\theta}_1B)\\epsilon_t.\n",
    "$$\n",
    "Then we expand the LHS to obtain \n",
    "$$\n",
    "\\left[1-(1+\\hat{\\phi}_1)B + (\\hat{\\phi}_1-\\hat{\\phi}_2)B^2 + (\\hat{\\phi}_2-\\hat{\\phi}_3)B^3 + \\hat{\\phi}_3B^4\\right] y_t = (1+\\hat{\\theta}_1B)\\epsilon_t,\n",
    "$$"
   ]
  },
  {
   "cell_type": "markdown",
   "metadata": {},
   "source": [
    "and applying the backshift operator gives\n",
    "$$\n",
    "y_t - (1 + \\hat{\\phi}_1)y_{t-1} + (\\hat{\\phi}_1 - \\hat{\\phi}_2)y_{t-2} \n",
    "+ (\\hat{\\phi}_2 - \\hat{\\phi}_3)y_{t-3} + \\hat{\\phi}_3 y_{t-4} = \n",
    "\\varepsilon_t + \\hat{\\theta}_1 \\varepsilon_{t-1}.\n",
    "$$\n",
    "Finally, we move all terms other than $y_t$ to the right hand side.\n",
    "$$\n",
    "y_t = (1 + \\hat{\\phi}_1)y_{t-1} - (\\hat{\\phi}_1 - \\hat{\\phi}_2)y_{t-2} \n",
    "- (\\hat{\\phi}_2 - \\hat{\\phi}_3)y_{t-3} - \\hat{\\phi}_3 y_{t-4} +\n",
    "\\varepsilon_t + \\hat{\\theta}_1 \\varepsilon_{t-1}.\n",
    "$$"
   ]
  },
  {
   "cell_type": "markdown",
   "metadata": {},
   "source": [
    "For the second step, we replace $t$ with $T+1$:\n",
    "$$\n",
    "y_{T+1} = (1 + \\hat{\\phi}_1)y_{T} - (\\hat{\\phi}_1 - \\hat{\\phi}_2)y_{T-1} \n",
    "- (\\hat{\\phi}_2 - \\hat{\\phi}_3)y_{T-2} - \\hat{\\phi}_3 y_{T-3} +\n",
    "\\varepsilon_{T+1} + \\hat{\\theta}_1 \\varepsilon_{T}.\n",
    "$$"
   ]
  },
  {
   "cell_type": "markdown",
   "metadata": {},
   "source": [
    "Assuming we have observations up to time $T$, all values on the RHS are known except for $\\varepsilon_{T+1}$, which we replace with zero, and $\\varepsilon_T$, which we replace with the last observed residual $e_T$:\n",
    "$$\n",
    "y_{T+1|T} = (1 + \\hat{\\phi}_1)y_{T} - (\\hat{\\phi}_1 - \\hat{\\phi}_2)y_{T-1} \n",
    "- (\\hat{\\phi}_2 - \\hat{\\phi}_3)y_{T-2} - \\hat{\\phi}_3 y_{T-3} +\n",
    " + \\hat{\\theta}_1 e_{T}.\n",
    "$$\n",
    "A forecast of $y_{T+2}$ is obtained by replacing $t$ with $T+2$. All values on teh RHS will be known at time $T$ except $y_{T+1}$ which we replace with $\\hat{y}_{T+1|T}$, and $\\varepsilon_{T+2}$ and $\\varepsilon_{T+1}$, both of which we replace with zero:\n",
    "$$\n",
    "y_{T+2|T} = (1 + \\hat{\\phi}_1)\\hat{y}_{T+1|T} - (\\hat{\\phi}_1 - \\hat{\\phi}_2)y_{T} \n",
    "- (\\hat{\\phi}_2 - \\hat{\\phi}_3)y_{T-1} - \\hat{\\phi}_3 y_{T-2}.\n",
    "$$\n",
    "The process continues in this manner for all future time periods. In this way, any number of point forecasts can be obtained."
   ]
  }
 ],
 "metadata": {
  "language_info": {
   "name": "python"
  }
 },
 "nbformat": 4,
 "nbformat_minor": 2
}
