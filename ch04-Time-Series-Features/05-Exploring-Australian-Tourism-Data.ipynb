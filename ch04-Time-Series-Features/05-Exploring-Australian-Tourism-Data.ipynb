{
 "cells": [
  {
   "cell_type": "markdown",
   "metadata": {},
   "source": [
    "## 4.5 Exploring Australian tourism data\n",
    "This chart is spectacular. I can't see how it might possibly be reproduced in Python."
   ]
  },
  {
   "cell_type": "markdown",
   "metadata": {},
   "source": [
    "![seasonalfeatures](../figures/seasonalfeatures.png)\n"
   ]
  },
  {
   "cell_type": "markdown",
   "metadata": {},
   "source": []
  }
 ],
 "metadata": {
  "language_info": {
   "name": "python"
  }
 },
 "nbformat": 4,
 "nbformat_minor": 2
}
