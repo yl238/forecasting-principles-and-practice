{
 "cells": [
  {
   "cell_type": "markdown",
   "metadata": {},
   "source": [
    "## 4.2 ACF Features\n",
    "All the autocorrelations of a series can be considered features of that series. We can also summarise the autocorrelation to produce new features; for example, the sum of the first ten squared autocorrelation coefficients is a useful summary of how much autocorrelation there is in a series, regardless of lag.\n",
    "\n",
    "We can also compute autocorrelations of the changes in the series between periods. That is, we “difference” the data and create a new time series consisting of the differences between consecutive observations. Then we can compute the autocorrelations of this new differenced series. Occasionally it is useful to apply the same differencing operation again, so we compute the differences of the differences. The autocorrelations of this double differenced series may provide useful information.\n",
    "\n",
    "Another related approach is to compute seasonal differences of a series. If we had monthly data, for example, we would compute the difference between consecutive Januaries, consecutive Februaries, and so on. This enables us to look at how the series is changing between years, rather than between months. Again, the autocorrelations of the seasonally differenced series may provide useful information.\n"
   ]
  },
  {
   "cell_type": "code",
   "execution_count": null,
   "metadata": {},
   "outputs": [],
   "source": [
    "import warnings\n",
    "warnings.filterwarnings('ignore')\n",
    "import pandas as pd\n",
    "import sys\n",
    "sys.path.append('../')\n",
    "import numpy as np\n",
    "from utils import summarize"
   ]
  },
  {
   "cell_type": "markdown",
   "metadata": {},
   "source": [
    "The `feat_acf()` function in R described in the book is quite interesting - it computes a selection of autocorrelation values discussed above:\n",
    "- the first autocorrelation coefficient from the original data;\n",
    "- the sum of squares of the first ten autocorrelation coefficients from the original data;\n",
    "- the first autocorrelation coefficient from the differenced data;\n",
    "- the sum of squares of the first ten autocorrelation coefficients from the differenced data;\n",
    "- the first autocorrelation coefficient from the twice differenced data;\n",
    "- the sum of squares of the first ten autocorrelation coefficients from the twice differenced data;\n",
    "- For seasonal data, the autocorrelation coefficient at the first seasonal lag is also returned.\n",
    "\n",
    "This is non-trivial to reproduce in Python."
   ]
  },
  {
   "cell_type": "code",
   "execution_count": 35,
   "metadata": {},
   "outputs": [],
   "source": [
    "tourism = (\n",
    "    pd.read_csv('../data/tsibble/tourism.csv')\n",
    "    .assign(date=lambda df: pd.to_datetime(df['Quarter'].str.replace(' ', '')))\n",
    "    .set_index('date', drop=False)\n",
    "    )"
   ]
  },
  {
   "cell_type": "code",
   "execution_count": 33,
   "metadata": {},
   "outputs": [],
   "source": [
    "features = (\n",
    "    tourism\n",
    "    .groupby('Region State Purpose'.split())\n",
    "    .Trips\n",
    "    .pipe(summarize, lambda x: dict(\n",
    "        acf1 = x.shift().corr(x),\n",
    "        acf10 = np.sum([x.shift(n).fillna(0).corr(x)**2 for n in range(1,11)]),\n",
    "        diff1_acf1 = x.diff().shift().corr(x.diff()),\n",
    "        diff1_acf10 = np.sum([\n",
    "            x.diff().shift(n).fillna(0).corr(x.diff().fillna(0))**2\n",
    "            for n in range(1,11)]),\n",
    "        diff2_acf1 = x.diff().diff().shift().corr(x.diff().diff()),\n",
    "        # etc.\n",
    "    ))\n",
    "    .unstack()\n",
    "    .reset_index()\n",
    ")"
   ]
  }
 ],
 "metadata": {
  "kernelspec": {
   "display_name": "venv",
   "language": "python",
   "name": "python3"
  },
  "language_info": {
   "codemirror_mode": {
    "name": "ipython",
    "version": 3
   },
   "file_extension": ".py",
   "mimetype": "text/x-python",
   "name": "python",
   "nbconvert_exporter": "python",
   "pygments_lexer": "ipython3",
   "version": "3.11.7"
  }
 },
 "nbformat": 4,
 "nbformat_minor": 2
}
